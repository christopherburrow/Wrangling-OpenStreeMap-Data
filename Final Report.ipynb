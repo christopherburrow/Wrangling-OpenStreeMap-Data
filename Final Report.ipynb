{
 "cells": [
  {
   "cell_type": "markdown",
   "metadata": {},
   "source": [
    "# Wrangle OpenStreetMap Data\n",
    "## Christopher Burrow"
   ]
  },
  {
   "cell_type": "markdown",
   "metadata": {},
   "source": [
    "## Area"
   ]
  },
  {
   "cell_type": "markdown",
   "metadata": {},
   "source": [
    "Memphis, Tennessee\n",
    "\n",
    "https://overpass-api.de/api/map?bbox=-90.0783,35.0688,-89.8654,35.1968\n",
    "\n",
    "Memphis is the city I currently live in so I thought it would create an interesting city to investigate."
   ]
  },
  {
   "cell_type": "markdown",
   "metadata": {},
   "source": [
    "## Initial investigating of the data"
   ]
  },
  {
   "cell_type": "markdown",
   "metadata": {},
   "source": [
    "Before importing the data into the database, I ran some queries against the data. The first issue I found was that there are some street names that are abreviated such as Ave., Blvd., and others. The street types will need to be corrected when parsing the xml file for importation into the database. I used the update_name function to be called when importing to correct these abbreviations."
   ]
  },
  {
   "cell_type": "markdown",
   "metadata": {},
   "source": [
    "```python\n",
    "    def update_name(name, mapping):\n",
    "    for key, value in mapping.iteritems():\n",
    "        if key in name:\n",
    "            return name.replace(key, value)\n",
    "    return name\n",
    "    \n",
    "    with open ('memphismap.xml', 'r') as mapfile:\n",
    "    s_types = audit()\n",
    "    \n",
    "    for s_type, ways in s_types.iteritems():\n",
    "        for name in ways:\n",
    "            correct_name = update_name(name, mapping)\n",
    "            print name, \"->\", correct_name\n",
    "```"
   ]
  },
  {
   "cell_type": "markdown",
   "metadata": {},
   "source": [
    "This function returned the streets that had abbreviated names and their corrections"
   ]
  },
  {
   "cell_type": "markdown",
   "metadata": {},
   "source": [
    "```python\n",
    "Covington Pike -> Covington Pike\n",
    "Mississippi -> Mississippi\n",
    "Perkins Extended -> Perkins Extended\n",
    "Jackson -> Jackson\n",
    "Front -> Front\n",
    "Avon Rd -> Avon Road \n",
    "E Brookhaven Cir -> E Brookhaven Circle \n",
    "Poplar -> Poplar\n",
    "Ridge Lake Blvd -> Ridge Lake Boulevard\n",
    "B.B. King Blvd -> B.B. King Boulevard\n",
    "Lamar Ave -> Lamar Avenue \n",
    "Shadyac Ave -> Shadyac Avenue \n",
    "W G E Patterson Ave -> W G East Patterson Ave\n",
    "Chelsea Ave -> Chelsea Avenue \n",
    "Central Ave -> Central Avenue \n",
    "Lynnfield Road Suite 236 -> Lynnfield Road Suite 236\n",
    "Main -> Main\n",
    "Clarke Rd. -> Clarke Road\n",
    "```"
   ]
  },
  {
   "cell_type": "markdown",
   "metadata": {},
   "source": [
    "Another issue I discovered was that I had two zipcodes that were not complete. They were short by two digits. Using the same process I used to clean the street abbreviations, I printed and cleaned up the two zipcodes that had issues, setting them to 0. "
   ]
  },
  {
   "cell_type": "markdown",
   "metadata": {},
   "source": [
    "```python\n",
    "def update_zipcode(zipcode): \n",
    "    if len(str(zipcode))<5:\n",
    "        zipcode = 0\n",
    "    return zipcode\n",
    "\n",
    "with open ('map.osm', 'r') as mapfile:\n",
    "    s_types = audit_zip()\n",
    "    \n",
    "    for s_type, ways in s_types.iteritems():\n",
    "        for name in ways:\n",
    "            correct_name = update_zipcode(name)\n",
    "            print name, \"->\", correct_name\n",
    "```"
   ]
  },
  {
   "cell_type": "markdown",
   "metadata": {},
   "source": [
    "```python\n",
    "38111 -> 38111\n",
    "38112 -> 38112\n",
    "38114 -> 38114\n",
    "38115 -> 38115\n",
    "38117 -> 38117\n",
    "38118 -> 38118\n",
    "38119 -> 38119\n",
    "38132 -> 38132\n",
    "38134 -> 38134\n",
    "3813 -> 0\n",
    "3951 -> 0\n",
    "38107 -> 38107\n",
    "38106 -> 38106\n",
    "38105 -> 38105\n",
    "38104 -> 38104\n",
    "38103 -> 38103\n",
    "38109 -> 38109\n",
    "38108 -> 38108\n",
    "38128 -> 38128\n",
    "38152 -> 38152\n",
    "38163 -> 38163\n",
    "38120 -> 38120\n",
    "38122 -> 38122\n",
    "38127 -> 38127\n",
    "38126 -> 38126\n",
    "```"
   ]
  },
  {
   "cell_type": "markdown",
   "metadata": {},
   "source": [
    "# Queries"
   ]
  },
  {
   "cell_type": "markdown",
   "metadata": {},
   "source": [
    "## File Sizes"
   ]
  },
  {
   "cell_type": "markdown",
   "metadata": {},
   "source": [
    "map.osm ..... 257 MB <br>\n",
    "sample.osm ..... 26 MB <br>\n",
    "map.db ..... 127 MB <br>\n",
    "nodes.csv ..... 105 MB <br>\n",
    "nodes_tags.csv ..... 0 MB <br>\n",
    "ways.csv ..... 6 MB <br>\n",
    "ways_tags.csv ..... 6 MB <br>\n",
    "ways_nodes.csv ..... 35 MB <br>"
   ]
  },
  {
   "cell_type": "markdown",
   "metadata": {},
   "source": [
    "## Number of Nodes and Ways"
   ]
  },
  {
   "cell_type": "markdown",
   "metadata": {},
   "source": [
    "```python\n",
    "#Number of nodes\n",
    "query = cur.execute('SELECT COUNT(*) FROM nodes')\n",
    "print query.fetchall()\n",
    "\n",
    "#Number of ways\n",
    "query = cur.execute('SELECT COUNT(*) FROM ways')\n",
    "print query.fetchall()\n",
    "```"
   ]
  },
  {
   "cell_type": "markdown",
   "metadata": {},
   "source": [
    "1331083 Nodes <br>\n",
    "118315 Ways <br>"
   ]
  },
  {
   "cell_type": "markdown",
   "metadata": {},
   "source": [
    "I wanted to check out the counts of the types of nodes. I was most interested in the Historic type since the downtown area of Memphis has lots of historic sites."
   ]
  },
  {
   "cell_type": "markdown",
   "metadata": {},
   "source": [
    "```python\n",
    "#Number of ways\n",
    "query = cur.execute('SELECT type , COUNT(*) AS num FROM nodes_tags GROUP BY type ORDER BY num DESC;')\n",
    "pprint.pprint(query.fetchall())\n",
    "```"
   ]
  },
  {
   "cell_type": "markdown",
   "metadata": {},
   "source": [
    "```python\n",
    "[(u'regular', 13225),\n",
    " (u'gnis', 4120),\n",
    " (u'addr', 968),\n",
    " (u'brand', 134),\n",
    " (u'tower', 39),\n",
    " (u'ref', 15),\n",
    " (u'contact', 15),\n",
    " (u'service', 12),\n",
    " (u'communication', 11),\n",
    " (u'social_facility', 9),\n",
    " (u'operator', 9),\n",
    " (u'historic', 9),\n",
    " (u'was', 8),\n",
    " (u'payment', 8),\n",
    " (u'traffic_signals', 4),\n",
    " (u'source', 4),\n",
    " (u'name', 4),\n",
    " (u'socket', 3),\n",
    " (u'nrhp', 3),\n",
    " (u'healthcare', 3),\n",
    " (u'fuel', 3),\n",
    " (u'toilets', 2),\n",
    " (u'removed', 2),\n",
    " (u'railway', 2),\n",
    " (u'internet_access', 2),\n",
    " (u'demolished', 2),\n",
    " (u'heritage', 1),\n",
    " (u'disused', 1),\n",
    " (u'description', 1),\n",
    " (u'census', 1)]\n",
    "```"
   ]
  },
  {
   "cell_type": "markdown",
   "metadata": {},
   "source": [
    "# Number of Unique users\n",
    "\n",
    "```python\n",
    "query = cur.execute('SELECT COUNT(distinct(uid)) FROM (SELECT uid FROM nodes UNION ALL SELECT uid FROM ways)')\n",
    "pprint.pprint(query.fetchone())\n",
    "```\n",
    "\n",
    "694 Unique Users"
   ]
  },
  {
   "cell_type": "markdown",
   "metadata": {},
   "source": [
    "## User with the most submissions\n",
    "\n",
    "```python\n",
    "query = cur.execute('SELECT e.user, COUNT(*) AS num FROM (SELECT user FROM nodes UNION ALL SELECT user FROM ways) AS e GROUP BY user ORDER BY num DESC LIMIT 1;')\n",
    "pprint.pprint(query.fetchall())\n",
    "```\n",
    "\n",
    "User: OSM901 <br>\n",
    "Submissions: 1291600"
   ]
  },
  {
   "cell_type": "markdown",
   "metadata": {},
   "source": [
    "# Number and type of Religious Locations\n",
    "\n",
    "Memphis is located in the Bible Belt of America which means the population is fairly religious. I expected to find a great number of churches located in the data. \n",
    "\n",
    "```python\n",
    "query= cur.execute(\"SELECT value, COUNT(*) AS num FROM (SELECT key,value FROM nodes_tags UNION ALL SELECT key,value FROM ways_tags) AS e WHERE key='religion' GROUP BY value ORDER BY num DESC;\")\n",
    "pprint.pprint(cur.fetchall())\n",
    "\n",
    "[(u'christian', 724),\n",
    " (u'jewish', 7),\n",
    " (u'muslim', 5),\n",
    " (u'multifaith', 1),\n",
    " (u'hindu', 1)]\n",
    "```\n",
    "724 is quite a lot of churches. If you've ever driven around Memphis, you'll know that it's very hard to find a street without a church located nearby. "
   ]
  },
  {
   "cell_type": "markdown",
   "metadata": {},
   "source": [
    "## Types of Resturaunts"
   ]
  },
  {
   "cell_type": "markdown",
   "metadata": {},
   "source": [
    "When I first ran this query, I expected to see barbeque resturaunts as the most common resturaunt type. I was suprised when there were only 2 results related to barbeque. Like chruches, it's very common to find multiple barbeque resturaunts on the same street in Memphis. I know from experience that the downtown area has at least 4 barbeque resturaunts on Beale Street. I would suspect that there are a lot of resturaunts that are not labeled correctly. \n",
    "\n",
    "```python\n",
    "query=cur.execute(\"SELECT value, COUNT(*) AS num FROM (SELECT key,value FROM nodes_tags UNION ALL SELECT key,value FROM ways_tags) AS e WHERE e.key LIKE '%cuisine%' GROUP BY value ORDER BY num desc;\")\n",
    "pprint.pprint(cur.fetchall())\n",
    "\n",
    "[(u'burger', 18),\n",
    " (u'american', 12),\n",
    " (u'sandwich', 8),\n",
    " (u'mexican', 8),\n",
    " (u'chicken', 8),\n",
    " (u'pizza', 7),\n",
    " (u'coffee_shop', 7),\n",
    " (u'japanese', 4),\n",
    " (u'italian', 4),\n",
    " (u'barbecue', 4),\n",
    " (u'tex-mex', 3),\n",
    " (u'seafood', 3),\n",
    " (u'ice_cream', 3),\n",
    " (u'regional', 2),\n",
    " (u'chinese', 2),\n",
    " (u'asian', 2),\n",
    " (u'wings', 1),\n",
    " (u'vietnamese', 1),\n",
    " (u'thai', 1),\n",
    " (u'steak_house', 1),\n",
    " (u'southern;breakfast', 1),\n",
    " (u'pretzel', 1),\n",
    " (u'pizza;barbecue;steak;southern;breakfast;lunch', 1),\n",
    " (u'mediterranean;korean;sandwich', 1),\n",
    " (u'gastropub', 1),\n",
    " (u'donut', 1),\n",
    " (u'diner', 1),\n",
    " (u'cookies', 1),\n",
    " (u'coffee_shop;southern', 1),\n",
    " (u'coffee;tea', 1),\n",
    " (u'chinese;sushi', 1),\n",
    " (u'chinese;buffet', 1),\n",
    " (u'cake;bagel;coffee_shop', 1),\n",
    " (u'breakfast;pancake', 1),\n",
    " (u'breakfast;coffee_shop', 1),\n",
    " (u'breakfast', 1),\n",
    " (u'bar;hotdogs', 1),\n",
    " (u'arab', 1),\n",
    " (u'american;steak', 1),\n",
    " (u'african', 1),\n",
    " (u'Club_and_Southern_Food', 1),\n",
    " (u'Bar_and_Pub_food', 1),\n",
    " (u'BBQ', 1)]\n",
    "```"
   ]
  },
  {
   "cell_type": "markdown",
   "metadata": {},
   "source": [
    "## Types of Amenities\n",
    "\n",
    "When looking at the types of amenities we can see that Places of Worship tops the list at 688. This number doesn't match up to the query I ran before on religious locations. Perhaps some node amenities are not labeled correctly in the data or are missing designations. \n",
    "\n",
    "```python\n",
    "query=cur.execute(\"SELECT value, COUNT(*) AS num FROM nodes_tags WHERE key='amenity' GROUP BY value ORDER BY num DESC;\")\n",
    "pprint.pprint(cur.fetchall())\n",
    "\n",
    "[(u'place_of_worship', 688),\n",
    " (u'school', 171),\n",
    " (u'restaurant', 87),\n",
    " (u'bicycle_rental', 70),\n",
    " (u'fast_food', 22),\n",
    " (u'bar', 21),\n",
    " (u'fuel', 20),\n",
    " (u'library', 15),\n",
    " (u'cafe', 13),\n",
    " (u'post_office', 10),\n",
    " (u'social_facility', 9),\n",
    " (u'grave_yard', 8),\n",
    " (u'parking', 7),\n",
    " (u'vending_machine', 6),\n",
    " (u'toilets', 6),\n",
    " (u'theatre', 6),\n",
    " (u'pharmacy', 6),\n",
    " (u'bench', 6),\n",
    " (u'pub', 5),\n",
    " (u'kindergarten', 5),\n",
    " (u'fountain', 4),\n",
    " (u'clinic', 4),\n",
    " (u'car_rental', 4),\n",
    " (u'bicycle_repair_station', 4),\n",
    " (u'fire_station', 3),\n",
    " (u'doctors', 3),\n",
    " (u'community_centre', 3),\n",
    " (u'bank', 3),\n",
    " (u'atm', 3),\n",
    " (u'waste_basket', 2),\n",
    " (u'university', 2),\n",
    " (u'research_institute', 2),\n",
    " (u'public_building', 2),\n",
    " (u'police', 2),\n",
    " (u'nursing_home', 2),\n",
    " (u'nightclub', 2),\n",
    " (u'ice_cream', 2),\n",
    " (u'hospital', 2),\n",
    " (u'courthouse', 2),\n",
    " (u'college', 2),\n",
    " (u'charging_station', 2),\n",
    " (u'car_wash', 2),\n",
    " (u'bicycle_parking', 2),\n",
    " (u'veterinary', 1),\n",
    " (u'shelter', 1),\n",
    " (u'prison', 1),\n",
    " (u'marketplace', 1),\n",
    " (u'dentist', 1),\n",
    " (u'clock', 1),\n",
    " (u'childcare', 1),\n",
    " (u'bus_station', 1),\n",
    " (u'bbq', 1)]\n",
    "```"
   ]
  },
  {
   "cell_type": "markdown",
   "metadata": {},
   "source": [
    "# Improvements that could be made\n",
    "\n",
    "## Religious Locations\n",
    "Since Christianity is broken into many denominations, it would be interesting to see the counts for those denominations. I would be very interested in doing some analysis on the demonination and informations about the surrounding area such as average income, crime rate, and housing prices. \n",
    "\n",
    "## Resturaunts\n",
    "Some of the resturaunts need to be broken into multiple catagories or labeled correctly. These designations could be broken into multiple columns for the entry. \n",
    "\n",
    "## Validating data for user submissions\n",
    "Since I suspect that some data is missing from the nodes. It would be helpful if OpenStreetMap validated the submissions of users to verify that a resturaunt type is set or that street names are not using abbreviations. This would make queries easier and less prone to error. "
   ]
  },
  {
   "cell_type": "code",
   "execution_count": null,
   "metadata": {},
   "outputs": [],
   "source": []
  }
 ],
 "metadata": {
  "kernelspec": {
   "display_name": "Python 2",
   "language": "python",
   "name": "python2"
  },
  "language_info": {
   "codemirror_mode": {
    "name": "ipython",
    "version": 2
   },
   "file_extension": ".py",
   "mimetype": "text/x-python",
   "name": "python",
   "nbconvert_exporter": "python",
   "pygments_lexer": "ipython2",
   "version": "2.7.16"
  }
 },
 "nbformat": 4,
 "nbformat_minor": 2
}
