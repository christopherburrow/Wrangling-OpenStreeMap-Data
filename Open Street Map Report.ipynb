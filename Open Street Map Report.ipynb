{
 "cells": [
  {
   "cell_type": "markdown",
   "metadata": {},
   "source": [
    "# Open Street Map Data Wrangling"
   ]
  },
  {
   "cell_type": "markdown",
   "metadata": {},
   "source": [
    "### Map"
   ]
  },
  {
   "cell_type": "markdown",
   "metadata": {},
   "source": [
    "Memphis, TN\n",
    "\n",
    "Memphis is the city I currently live in so I thought it would create an interesting city to investigate. \n",
    "\n",
    "<img src = \"image.png\">"
   ]
  },
  {
   "cell_type": "markdown",
   "metadata": {},
   "source": [
    "## Initial Investigating of the data"
   ]
  },
  {
   "cell_type": "markdown",
   "metadata": {},
   "source": [
    "Before importing the data into the database, I ran some queries against the data. The first issue I found was that there are some street names that are abreviated such as Ave., Blvd., and others. A couple of streets were missing their street types. "
   ]
  },
  {
   "cell_type": "markdown",
   "metadata": {},
   "source": [
    "```python\n",
    "\n",
    "defaultdict(set,\n",
    "            {'236': {'Lynnfield Road Suite 236'},\n",
    "             'Ave': {'Central Ave',\n",
    "              'Chelsea Ave',\n",
    "              'Lamar Ave',\n",
    "              'Shadyac Ave',\n",
    "              'W G E Patterson Ave'},\n",
    "             'Blvd': {'B.B. King Blvd', 'Ridge Lake Blvd'},\n",
    "             'Cir': {'E Brookhaven Cir'},\n",
    "             'Extended': {'Perkins Extended'},\n",
    "             'Front': {'Front'},\n",
    "             'Jackson': {'Jackson'},\n",
    "             'Main': {'Main'},\n",
    "             'Mississippi': {'Mississippi'},\n",
    "             'Pike': {'Covington Pike'},\n",
    "             'Poplar': {'Poplar'},\n",
    "             'Rd': {'Avon Rd'},\n",
    "             'Rd.': {'Clarke Rd.'}})\n",
    "\n",
    "```"
   ]
  },
  {
   "cell_type": "markdown",
   "metadata": {},
   "source": [
    "The street types will need to be corrected when parsing the xml file for importation into the database. I used the update_name function to be called when importing to correct these abbreviations. "
   ]
  },
  {
   "cell_type": "markdown",
   "metadata": {},
   "source": [
    "```python\n",
    "    def update_name(name, mapping):\n",
    "    for key, value in mapping.iteritems():\n",
    "        if key in name:\n",
    "            return name.replace(key, value)\n",
    "    return name\n",
    "    \n",
    "    with open ('memphismap.xml', 'r') as mapfile:\n",
    "    s_types = audit()\n",
    "    \n",
    "    for s_type, ways in s_types.iteritems():\n",
    "        for name in ways:\n",
    "            correct_name = update_name(name, mapping)\n",
    "            print name, \"->\", correct_name\n",
    "```"
   ]
  },
  {
   "cell_type": "markdown",
   "metadata": {},
   "source": [
    "This function returned the streets that had abbreviated names and their corrections"
   ]
  },
  {
   "cell_type": "markdown",
   "metadata": {},
   "source": [
    "```python\n",
    "Covington Pike -> Covington Pike\n",
    "Mississippi -> Mississippi\n",
    "Perkins Extended -> Perkins Extended\n",
    "Jackson -> Jackson\n",
    "Front -> Front\n",
    "Avon Rd -> Avon Road \n",
    "E Brookhaven Cir -> E Brookhaven Circle \n",
    "Poplar -> Poplar\n",
    "Ridge Lake Blvd -> Ridge Lake Boulevard\n",
    "B.B. King Blvd -> B.B. King Boulevard\n",
    "Lamar Ave -> Lamar Avenue \n",
    "Shadyac Ave -> Shadyac Avenue \n",
    "W G E Patterson Ave -> W G East Patterson Ave\n",
    "Chelsea Ave -> Chelsea Avenue \n",
    "Central Ave -> Central Avenue \n",
    "Lynnfield Road Suite 236 -> Lynnfield Road Suite 236\n",
    "Main -> Main\n",
    "Clarke Rd. -> Clarke Road\n",
    "```"
   ]
  },
  {
   "cell_type": "markdown",
   "metadata": {},
   "source": [
    "Another issue I discovered was that I had two zipcodes that were not complete. They were short by two digits. "
   ]
  },
  {
   "cell_type": "markdown",
   "metadata": {},
   "source": [
    "```python\n",
    "defaultdict(set,\n",
    "            {'38103': {'38103'},\n",
    "             '38104': {'38104'},\n",
    "             '38105': {'38105'},\n",
    "             '38106': {'38106'},\n",
    "             '38107': {'38107'},\n",
    "             '38108': {'38108'},\n",
    "             '38109': {'38109'},\n",
    "             '38111': {'38111'},\n",
    "             '38112': {'38112'},\n",
    "             '38114': {'38114'},\n",
    "             '38115': {'38115'},\n",
    "             '38117': {'38117'},\n",
    "             '38118': {'38118'},\n",
    "             '38119': {'38119'},\n",
    "             '38120': {'38120'},\n",
    "             '38122': {'38122'},\n",
    "             '38126': {'38126'},\n",
    "             '38128': {'38128'},\n",
    "             '3813': {'3813'},\n",
    "             '38134': {'38134'},\n",
    "             '38152': {'38152'},\n",
    "             '38163': {'38163'},\n",
    "             '3951': {'3951'}})\n",
    "```"
   ]
  },
  {
   "cell_type": "markdown",
   "metadata": {},
   "source": [
    "Using a short function later when importing the data will set those two to 00000 since we do not know what digit is missing from the zipcode. "
   ]
  },
  {
   "cell_type": "markdown",
   "metadata": {},
   "source": [
    "```python\n",
    "def update_zipcode(zipcode): \n",
    "    if len(str(zipcode))<5:\n",
    "        zipcode = 00000\n",
    "    return zipcode\n",
    "```"
   ]
  },
  {
   "cell_type": "markdown",
   "metadata": {},
   "source": [
    "# Data Overview"
   ]
  },
  {
   "cell_type": "markdown",
   "metadata": {},
   "source": [
    "## File Sizes\n",
    "memphismap.xml ..... 247 MB <br>\n",
    "memphis.db ..... 122 MB <br>\n",
    "nodes.csv ..... 101 MB <br>\n",
    "nodes_tags.csv ..... 0 MB <br>\n",
    "ways.csv ..... 6 MB <br>\n",
    "ways_tags.csv ..... 6 MB <br>\n",
    "ways_nodes.csv ..... 33 MB <br>"
   ]
  },
  {
   "cell_type": "markdown",
   "metadata": {},
   "source": [
    "## Number of Nodes and Ways\n",
    "\n",
    "```python\n",
    "query = cur.execute('SELECT COUNT(*) FROM nodes')\n",
    "print query.fetchall()\n",
    "\n",
    "query = cur.execute('SELECT COUNT(*) FROM ways')\n",
    "print query.fetchall()\n",
    "```\n",
    "\n",
    "Nodes: 1278477 <br>\n",
    "Ways: 113652"
   ]
  },
  {
   "cell_type": "markdown",
   "metadata": {},
   "source": [
    "## Number of Unique Users\n",
    "\n",
    "```python\n",
    "query = cur.execute('SELECT COUNT(distinct(uid)) FROM (SELECT uid FROM nodes UNION ALL SELECT uid FROM ways)')\n",
    "pprint.pprint(query.fetchone())\n",
    "```\n",
    "\n",
    "676"
   ]
  },
  {
   "cell_type": "markdown",
   "metadata": {},
   "source": [
    "## User with the most submissions\n",
    "```python\n",
    "query = cur.execute('SELECT e.user, COUNT(*) AS num FROM (SELECT user FROM nodes UNION ALL SELECT user FROM ways) AS e GROUP BY user ORDER BY num DESC LIMIT 1;')\n",
    "pprint.pprint(query.fetchall())\n",
    "```\n",
    "User: OSM901 <br>\n",
    "Submissions: 1239829"
   ]
  },
  {
   "cell_type": "markdown",
   "metadata": {},
   "source": [
    "## Number and type of religious locations\n",
    "```python\n",
    "query= cur.execute(\"SELECT value, COUNT(*) AS num FROM (SELECT key,value FROM nodes_tags UNION ALL SELECT key,value FROM ways_tags) AS e WHERE key='religion' GROUP BY value ORDER BY num DESC;\")\n",
    "pprint.pprint(cur.fetchall())\n",
    "```\n",
    "\n",
    "Christian: 720 <br>\n",
    "Jewish: 7 <br>\n",
    "Muslim: 5 <br>\n",
    "Multifaith: 1 <br>\n",
    "Hindu: 1 <br>"
   ]
  },
  {
   "cell_type": "markdown",
   "metadata": {},
   "source": [
    "Since Memphis is withing the 'Bible Belt', it's not suprising to see a large number of Christian faith churches. "
   ]
  },
  {
   "cell_type": "markdown",
   "metadata": {},
   "source": [
    "## Types of resturaunts\n",
    "```python\n",
    "query=cur.execute(\"SELECT value, COUNT(*) AS num FROM (SELECT key,value FROM nodes_tags UNION ALL SELECT key,value FROM ways_tags) AS e WHERE e.key LIKE '%cuisine%' GROUP BY value ORDER BY num desc;\")\n",
    "pprint.pprint(cur.fetchall())\n",
    "\n",
    "[(u'burger', 18),\n",
    " (u'american', 12),\n",
    " (u'sandwich', 8),\n",
    " (u'mexican', 8),\n",
    " (u'chicken', 8),\n",
    " (u'pizza', 7),\n",
    " (u'coffee_shop', 7),\n",
    " (u'japanese', 4),\n",
    " (u'italian', 4),\n",
    " (u'barbecue', 4),\n",
    " (u'tex-mex', 3),\n",
    " (u'seafood', 3),\n",
    " (u'ice_cream', 3),\n",
    " (u'regional', 2),\n",
    " (u'chinese', 2),\n",
    " (u'asian', 2),\n",
    " (u'wings', 1),\n",
    " (u'vietnamese', 1),\n",
    " (u'thai', 1),\n",
    " (u'steak_house', 1),\n",
    " (u'southern;breakfast', 1),\n",
    " (u'pretzel', 1),\n",
    " (u'pizza;barbecue;steak;southern;breakfast;lunch', 1),\n",
    " (u'mediterranean;korean;sandwich', 1),\n",
    " (u'gastropub', 1),\n",
    " (u'donut', 1),\n",
    " (u'diner', 1),\n",
    " (u'cookies', 1),\n",
    " (u'coffee_shop;southern', 1),\n",
    " (u'coffee;tea', 1),\n",
    " (u'chinese;sushi', 1),\n",
    " (u'chinese;buffet', 1),\n",
    " (u'cake;bagel;coffee_shop', 1),\n",
    " (u'breakfast;pancake', 1),\n",
    " (u'breakfast;coffee_shop', 1),\n",
    " (u'breakfast', 1),\n",
    " (u'bar;hotdogs', 1),\n",
    " (u'arab', 1),\n",
    " (u'american;steak', 1),\n",
    " (u'african', 1),\n",
    " (u'Club_and_Southern_Food', 1),\n",
    " (u'Bar_and_Pub_food', 1),\n",
    " (u'BBQ', 1)]\n",
    "\n",
    "```"
   ]
  },
  {
   "cell_type": "markdown",
   "metadata": {},
   "source": [
    "This was a pretty interesting query because there are only 6 resturaunts listed as Barbeque. If you've ever been to Memphis, you'll know that you can't go half a block without finding a barbeque resturaunt. I feel that either some resturaunts are not labeled correctly or are missing classification. "
   ]
  },
  {
   "cell_type": "markdown",
   "metadata": {},
   "source": [
    "# Improvements that could be made"
   ]
  },
  {
   "cell_type": "markdown",
   "metadata": {},
   "source": [
    "## Religious locations\n",
    "Since Christianity is broken into many denominations, it would be intereseting to see what denominations are tied to each location. I'd be interested to see where these denominations are in relation to the average wealth of surrounding area. "
   ]
  },
  {
   "cell_type": "markdown",
   "metadata": {},
   "source": [
    "## Resturaunts\n",
    "\n",
    "Some of the resturaunts had multiple designations for type. These would be better suited broken out into seperate columns so that they aren't classed together as a unique type. "
   ]
  },
  {
   "cell_type": "markdown",
   "metadata": {},
   "source": [
    "## Validating data for user submissions\n",
    "\n",
    "A validation process could be put in place to prevent users from submitting streets that contain abbreviated names to make quering the data easier and less prone to error. "
   ]
  },
  {
   "cell_type": "code",
   "execution_count": null,
   "metadata": {},
   "outputs": [],
   "source": []
  }
 ],
 "metadata": {
  "kernelspec": {
   "display_name": "Python 2",
   "language": "python",
   "name": "python2"
  },
  "language_info": {
   "codemirror_mode": {
    "name": "ipython",
    "version": 2
   },
   "file_extension": ".py",
   "mimetype": "text/x-python",
   "name": "python",
   "nbconvert_exporter": "python",
   "pygments_lexer": "ipython2",
   "version": "2.7.16"
  }
 },
 "nbformat": 4,
 "nbformat_minor": 2
}
